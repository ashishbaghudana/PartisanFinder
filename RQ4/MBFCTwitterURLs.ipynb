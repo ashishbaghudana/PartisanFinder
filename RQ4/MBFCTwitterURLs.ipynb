{
 "cells": [
  {
   "cell_type": "code",
   "execution_count": 1,
   "metadata": {},
   "outputs": [],
   "source": [
    "import csv\n",
    "import re\n",
    "from glob import glob"
   ]
  },
  {
   "cell_type": "code",
   "execution_count": 2,
   "metadata": {},
   "outputs": [],
   "source": [
    "# All dataset files start with csv\n",
    "csv_files = [f for f in glob('*.csv') if f.startswith('Dataset')]\n",
    "\n",
    "# Set the regex pattern for finding URLs\n",
    "PATTERN = re.compile('http[s]?://(?:[a-zA-Z]|[0-9]|[$-_@.&+]|[!*\\(\\), ]|(?:%[0-9a-fA-F][0-9a-fA-F]))+')\n",
    "\n",
    "# Store a list of URLs with the geolocation they were shared in\n",
    "website_locations = []\n",
    "\n",
    "for csv_file in csv_files:\n",
    "    with open(csv_file) as freader:\n",
    "        csvreader = csv.reader(freader)\n",
    "        for line in csvreader:\n",
    "            urls = PATTERN.findall(line[1])\n",
    "            for url in urls:\n",
    "                website_locations.append([url, (line[-4].strip(), line[-3].strip())])"
   ]
  },
  {
   "cell_type": "code",
   "execution_count": 3,
   "metadata": {},
   "outputs": [],
   "source": [
    "# Find unique websites (NOT domain names)\n",
    "unique_websites = set()\n",
    "for website in website_locations:\n",
    "    unique_websites.add(website[0])"
   ]
  },
  {
   "cell_type": "code",
   "execution_count": 8,
   "metadata": {},
   "outputs": [],
   "source": [
    "import requests\n",
    "\n",
    "def get_url(url):\n",
    "    if websites[url] is not None:\n",
    "        return\n",
    "    session = requests.Session()\n",
    "    try:\n",
    "        resp = session.head(url.strip(), allow_redirects=True)\n",
    "        if resp.ok:\n",
    "            websites[url] = resp.url\n",
    "    except:\n",
    "        pass\n",
    "    \n",
    "websites = dict.fromkeys(unique_websites, None)"
   ]
  },
  {
   "cell_type": "code",
   "execution_count": 6,
   "metadata": {},
   "outputs": [],
   "source": [
    "from urllib.parse import urlparse\n",
    "\n",
    "def get_domain(url):\n",
    "    parsed_uri = urlparse(url)\n",
    "    domain = '{uri.scheme}://{uri.netloc}/'.format(uri=parsed_uri)\n",
    "    return domain"
   ]
  },
  {
   "cell_type": "code",
   "execution_count": 9,
   "metadata": {},
   "outputs": [
    {
     "name": "stderr",
     "output_type": "stream",
     "text": [
      "0it [00:00, ?it/s]\n",
      "0it [00:00, ?it/s]\u001b[A\n",
      "\u001b[A\n"
     ]
    }
   ],
   "source": [
    "from tqdm import tqdm\n",
    "from multiprocessing.dummy import Pool as ThreadPool\n",
    "\n",
    "pool = ThreadPool(16)\n",
    "\n",
    "with tqdm(total=len(websites)) as pbar:\n",
    "    for i, _ in tqdm(enumerate(pool.imap_unordered(get_url, unique_websites))):\n",
    "        pbar.update()"
   ]
  },
  {
   "cell_type": "code",
   "execution_count": 10,
   "metadata": {},
   "outputs": [],
   "source": [
    "zip2fips = requests.get('https://raw.githubusercontent.com/bgruber/zip2fips/master/zip2fips.json').json()"
   ]
  },
  {
   "cell_type": "code",
   "execution_count": 11,
   "metadata": {},
   "outputs": [
    {
     "name": "stdout",
     "output_type": "stream",
     "text": [
      "Requirement already satisfied: uszipcode in /Users/ashish/anaconda3/lib/python3.6/site-packages (0.1.3)\n"
     ]
    }
   ],
   "source": [
    "!pip install uszipcode\n",
    "\n",
    "from uszipcode import ZipcodeSearchEngine\n",
    "search = ZipcodeSearchEngine()"
   ]
  },
  {
   "cell_type": "code",
   "execution_count": 13,
   "metadata": {},
   "outputs": [],
   "source": [
    "website_fips = {}\n",
    "\n",
    "for website in website_locations:\n",
    "    long_url = websites[website[0]]\n",
    "    if long_url is None:\n",
    "        continue\n",
    "    else:\n",
    "        domain = get_domain(long_url)\n",
    "        lat, lon = float(website[1][0]), float(website[1][1])\n",
    "        res = search.by_coordinate(lat, lon)\n",
    "        if len(res) > 0:\n",
    "            zipcode = res[0][\"Zipcode\"]\n",
    "            if zipcode in zip2fips:\n",
    "                website_fips.append([domain, zip2fips[zipcode]])"
   ]
  },
  {
   "cell_type": "code",
   "execution_count": null,
   "metadata": {},
   "outputs": [],
   "source": []
  }
 ],
 "metadata": {
  "kernelspec": {
   "display_name": "Python 3",
   "language": "python",
   "name": "python3"
  },
  "language_info": {
   "codemirror_mode": {
    "name": "ipython",
    "version": 3
   },
   "file_extension": ".py",
   "mimetype": "text/x-python",
   "name": "python",
   "nbconvert_exporter": "python",
   "pygments_lexer": "ipython3",
   "version": "3.6.3"
  }
 },
 "nbformat": 4,
 "nbformat_minor": 2
}
