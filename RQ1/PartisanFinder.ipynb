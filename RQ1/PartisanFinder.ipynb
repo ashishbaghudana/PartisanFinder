{
 "cells": [
  {
   "cell_type": "markdown",
   "metadata": {},
   "source": [
    "## Classifiers for Voter Information\n",
    "In this notebook, we build different classifiers and measure their performance."
   ]
  },
  {
   "cell_type": "code",
   "execution_count": 1,
   "metadata": {},
   "outputs": [
    {
     "data": {
      "text/html": [
       "<div>\n",
       "<style>\n",
       "    .dataframe thead tr:only-child th {\n",
       "        text-align: right;\n",
       "    }\n",
       "\n",
       "    .dataframe thead th {\n",
       "        text-align: left;\n",
       "    }\n",
       "\n",
       "    .dataframe tbody tr th {\n",
       "        vertical-align: top;\n",
       "    }\n",
       "</style>\n",
       "<table border=\"1\" class=\"dataframe\">\n",
       "  <thead>\n",
       "    <tr style=\"text-align: right;\">\n",
       "      <th></th>\n",
       "      <th>per_capita_income</th>\n",
       "      <th>population_density</th>\n",
       "      <th>pop_without_a2i</th>\n",
       "      <th>urban_pop_density</th>\n",
       "      <th>rural_pop_density</th>\n",
       "      <th>gt_50_internet</th>\n",
       "      <th>median_dl_speed</th>\n",
       "      <th>median_ul_speed</th>\n",
       "      <th>upper_quartile_dl</th>\n",
       "      <th>upper_quartile_ul</th>\n",
       "      <th>lower_quartile_dl</th>\n",
       "      <th>lower_quartile_ul</th>\n",
       "    </tr>\n",
       "  </thead>\n",
       "  <tbody>\n",
       "    <tr>\n",
       "      <th>count</th>\n",
       "      <td>3007.000000</td>\n",
       "      <td>3007.000000</td>\n",
       "      <td>3007.000000</td>\n",
       "      <td>3007.000000</td>\n",
       "      <td>3007.000000</td>\n",
       "      <td>3007.000000</td>\n",
       "      <td>3007.000000</td>\n",
       "      <td>3007.000000</td>\n",
       "      <td>3007.000000</td>\n",
       "      <td>3007.000000</td>\n",
       "      <td>3007.000000</td>\n",
       "      <td>3007.000000</td>\n",
       "    </tr>\n",
       "    <tr>\n",
       "      <th>mean</th>\n",
       "      <td>24006.278018</td>\n",
       "      <td>238.861244</td>\n",
       "      <td>35.600931</td>\n",
       "      <td>1388.975954</td>\n",
       "      <td>38.393421</td>\n",
       "      <td>0.975391</td>\n",
       "      <td>5.198062</td>\n",
       "      <td>1.997164</td>\n",
       "      <td>8.941998</td>\n",
       "      <td>3.325612</td>\n",
       "      <td>2.961012</td>\n",
       "      <td>1.223224</td>\n",
       "    </tr>\n",
       "    <tr>\n",
       "      <th>std</th>\n",
       "      <td>5613.751160</td>\n",
       "      <td>1807.759865</td>\n",
       "      <td>32.114530</td>\n",
       "      <td>1983.974369</td>\n",
       "      <td>41.611166</td>\n",
       "      <td>0.154957</td>\n",
       "      <td>4.325171</td>\n",
       "      <td>2.192160</td>\n",
       "      <td>7.227155</td>\n",
       "      <td>3.672943</td>\n",
       "      <td>3.213946</td>\n",
       "      <td>1.649285</td>\n",
       "    </tr>\n",
       "    <tr>\n",
       "      <th>min</th>\n",
       "      <td>8200.000000</td>\n",
       "      <td>0.066000</td>\n",
       "      <td>0.000000</td>\n",
       "      <td>0.000000</td>\n",
       "      <td>0.000000</td>\n",
       "      <td>0.000000</td>\n",
       "      <td>0.000980</td>\n",
       "      <td>0.002930</td>\n",
       "      <td>0.000980</td>\n",
       "      <td>0.002930</td>\n",
       "      <td>0.000980</td>\n",
       "      <td>0.002930</td>\n",
       "    </tr>\n",
       "    <tr>\n",
       "      <th>25%</th>\n",
       "      <td>20264.000000</td>\n",
       "      <td>15.460500</td>\n",
       "      <td>8.000000</td>\n",
       "      <td>812.023500</td>\n",
       "      <td>8.665500</td>\n",
       "      <td>1.000000</td>\n",
       "      <td>2.158480</td>\n",
       "      <td>0.595222</td>\n",
       "      <td>3.613796</td>\n",
       "      <td>0.839778</td>\n",
       "      <td>1.115677</td>\n",
       "      <td>0.387398</td>\n",
       "    </tr>\n",
       "    <tr>\n",
       "      <th>50%</th>\n",
       "      <td>23378.000000</td>\n",
       "      <td>43.756000</td>\n",
       "      <td>26.000000</td>\n",
       "      <td>1396.950000</td>\n",
       "      <td>25.708000</td>\n",
       "      <td>1.000000</td>\n",
       "      <td>3.979200</td>\n",
       "      <td>1.230833</td>\n",
       "      <td>7.033845</td>\n",
       "      <td>2.107423</td>\n",
       "      <td>2.070695</td>\n",
       "      <td>0.696388</td>\n",
       "    </tr>\n",
       "    <tr>\n",
       "      <th>75%</th>\n",
       "      <td>26715.500000</td>\n",
       "      <td>112.236500</td>\n",
       "      <td>56.000000</td>\n",
       "      <td>1863.025000</td>\n",
       "      <td>53.539500</td>\n",
       "      <td>1.000000</td>\n",
       "      <td>7.096713</td>\n",
       "      <td>2.690522</td>\n",
       "      <td>12.235057</td>\n",
       "      <td>4.610483</td>\n",
       "      <td>3.563242</td>\n",
       "      <td>1.412133</td>\n",
       "    </tr>\n",
       "    <tr>\n",
       "      <th>max</th>\n",
       "      <td>63610.000000</td>\n",
       "      <td>73077.080000</td>\n",
       "      <td>100.000000</td>\n",
       "      <td>73077.080000</td>\n",
       "      <td>679.088000</td>\n",
       "      <td>1.000000</td>\n",
       "      <td>52.043947</td>\n",
       "      <td>26.558962</td>\n",
       "      <td>70.893460</td>\n",
       "      <td>57.350828</td>\n",
       "      <td>51.639653</td>\n",
       "      <td>23.235680</td>\n",
       "    </tr>\n",
       "  </tbody>\n",
       "</table>\n",
       "</div>"
      ],
      "text/plain": [
       "       per_capita_income  population_density  pop_without_a2i  \\\n",
       "count        3007.000000         3007.000000      3007.000000   \n",
       "mean        24006.278018          238.861244        35.600931   \n",
       "std          5613.751160         1807.759865        32.114530   \n",
       "min          8200.000000            0.066000         0.000000   \n",
       "25%         20264.000000           15.460500         8.000000   \n",
       "50%         23378.000000           43.756000        26.000000   \n",
       "75%         26715.500000          112.236500        56.000000   \n",
       "max         63610.000000        73077.080000       100.000000   \n",
       "\n",
       "       urban_pop_density  rural_pop_density  gt_50_internet  median_dl_speed  \\\n",
       "count        3007.000000        3007.000000     3007.000000      3007.000000   \n",
       "mean         1388.975954          38.393421        0.975391         5.198062   \n",
       "std          1983.974369          41.611166        0.154957         4.325171   \n",
       "min             0.000000           0.000000        0.000000         0.000980   \n",
       "25%           812.023500           8.665500        1.000000         2.158480   \n",
       "50%          1396.950000          25.708000        1.000000         3.979200   \n",
       "75%          1863.025000          53.539500        1.000000         7.096713   \n",
       "max         73077.080000         679.088000        1.000000        52.043947   \n",
       "\n",
       "       median_ul_speed  upper_quartile_dl  upper_quartile_ul  \\\n",
       "count      3007.000000        3007.000000        3007.000000   \n",
       "mean          1.997164           8.941998           3.325612   \n",
       "std           2.192160           7.227155           3.672943   \n",
       "min           0.002930           0.000980           0.002930   \n",
       "25%           0.595222           3.613796           0.839778   \n",
       "50%           1.230833           7.033845           2.107423   \n",
       "75%           2.690522          12.235057           4.610483   \n",
       "max          26.558962          70.893460          57.350828   \n",
       "\n",
       "       lower_quartile_dl  lower_quartile_ul  \n",
       "count        3007.000000        3007.000000  \n",
       "mean            2.961012           1.223224  \n",
       "std             3.213946           1.649285  \n",
       "min             0.000980           0.002930  \n",
       "25%             1.115677           0.387398  \n",
       "50%             2.070695           0.696388  \n",
       "75%             3.563242           1.412133  \n",
       "max            51.639653          23.235680  "
      ]
     },
     "execution_count": 1,
     "metadata": {},
     "output_type": "execute_result"
    }
   ],
   "source": [
    "\"\"\"Import dataset\"\"\"\n",
    "import pandas as pd\n",
    "df = pd.DataFrame.from_csv('../Data/Dataset2016.csv')\n",
    "df.describe()"
   ]
  },
  {
   "cell_type": "code",
   "execution_count": 123,
   "metadata": {},
   "outputs": [
    {
     "data": {
      "image/png": "[encoded data removed]",
      "text/plain": [
       "<matplotlib.figure.Figure at 0x10b799e48>"
      ]
     },
     "metadata": {},
     "output_type": "display_data"
    }
   ],
   "source": [
    "%matplotlib inline\n",
    "import matplotlib.pyplot as plt\n",
    "import matplotlib\n",
    "\n",
    "matplotlib.rcParams.update({'font.size': 15})\n",
    "\n",
    "fig, ax = plt.subplots(figsize=(11, 7))\n",
    "plt.style.use(['grayscale', 'seaborn-white'])\n",
    "df2 = df[['median_dl_speed', 'median_ul_speed', 'upper_quartile_dl', 'upper_quartile_ul', \n",
    "          'lower_quartile_dl', 'lower_quartile_ul']]\n",
    "df2.columns = ['Median Download', 'Median Upload', '75% Download', '75% Upload', '25% Download', '25% Upload']\n",
    "ax.set_ylabel('Internet speed (in Mbps)')\n",
    "axes, lines = df2.boxplot(fontsize=15, return_type='both', grid=False, ax=ax)"
   ]
  },
  {
   "cell_type": "code",
   "execution_count": 3,
   "metadata": {},
   "outputs": [
    {
     "name": "stdout",
     "output_type": "stream",
     "text": [
      "Full dataset shape: (3007, 12)\n",
      "Reduced dataset shape: (3007, 8)\n",
      "Labels shape: (3007,)\n",
      "Class distribution: Counter({1.0: 2558, 0.0: 449})\n"
     ]
    }
   ],
   "source": [
    "\"\"\"Create two datasets from the csv file - one with all features, and the other with reduced features\"\"\"\n",
    "import numpy as np\n",
    "from collections import Counter\n",
    "\n",
    "dataset = df.iloc[:, :].as_matrix()\n",
    "\n",
    "# X_full has all features\n",
    "X_full = dataset[:, :-1]\n",
    "\n",
    "# X_reduced has features related to Internet speeds only\n",
    "X_reduced = dataset[:, [2, 5, 6, 7, 8, 9, 10, 11]]\n",
    "\n",
    "# Extract the labels\n",
    "Y_labels = dataset[:, -1]\n",
    "\n",
    "# Hack for one missing label, currently coding it as 0\n",
    "Y = np.zeros(len(Y_labels))\n",
    "for i in range(len(Y_labels)):\n",
    "    if Y_labels[i] != 'None':\n",
    "        Y[i] = int(Y_labels[i])\n",
    "  \n",
    "print(\"Full dataset shape:\", X_full.shape)\n",
    "print(\"Reduced dataset shape:\", X_reduced.shape)\n",
    "print(\"Labels shape:\", Y.shape)\n",
    "print(\"Class distribution:\",Counter(Y))"
   ]
  },
  {
   "cell_type": "code",
   "execution_count": 4,
   "metadata": {},
   "outputs": [
    {
     "name": "stdout",
     "output_type": "stream",
     "text": [
      "Sampled dataset size: (930, 12) (930, 8)\n",
      "Sampled labels size: (930,)\n",
      "Class distribution after sampling: Counter({1.0: 481, 0.0: 449})\n"
     ]
    }
   ],
   "source": [
    "\"\"\"Random sampling to balance the dataset\"\"\"\n",
    "import random\n",
    "\n",
    "# Set seed to a fixed value for reproducibility \n",
    "random.seed(42)\n",
    "\n",
    "X_full_sample = []\n",
    "X_reduced_sample = []\n",
    "Y_sample = []\n",
    "\n",
    "# The threshold decides whether an entry should be included in the sampled dataset or not\n",
    "threshold = 0.2\n",
    "\n",
    "for i in range(len(Y)):\n",
    "    if Y[i] == 0:\n",
    "        X_full_sample.append(X_full[i])\n",
    "        X_reduced_sample.append(X_reduced[i])\n",
    "        Y_sample.append(Y[i])\n",
    "    elif random.random() < threshold:\n",
    "        X_full_sample.append(X_full[i])\n",
    "        X_reduced_sample.append(X_reduced[i])\n",
    "        Y_sample.append(Y[i])\n",
    "\n",
    "X_full_sample = np.array(X_full_sample)\n",
    "X_reduced_sample = np.array(X_reduced_sample)\n",
    "Y_sample = np.array(Y_sample)\n",
    "\n",
    "print(\"Sampled dataset size:\", X_full_sample.shape, X_reduced_sample.shape)\n",
    "print(\"Sampled labels size:\", Y_sample.shape)\n",
    "print(\"Class distribution after sampling:\", Counter(Y_sample))"
   ]
  },
  {
   "cell_type": "code",
   "execution_count": 5,
   "metadata": {},
   "outputs": [
    {
     "name": "stdout",
     "output_type": "stream",
     "text": [
      "Class distribution in training and testing set: Counter({1.0: 394, 0.0: 350}) Counter({0.0: 99, 1.0: 87})\n"
     ]
    },
    {
     "name": "stderr",
     "output_type": "stream",
     "text": [
      "/Users/ashish/anaconda3/lib/python3.6/site-packages/sklearn/utils/validation.py:475: DataConversionWarning: Data with input dtype object was converted to float64 by StandardScaler.\n",
      "  warnings.warn(msg, DataConversionWarning)\n"
     ]
    }
   ],
   "source": [
    "\"\"\"Preprocess the dataset and divide it into train and test\"\"\"\n",
    "from sklearn.preprocessing import StandardScaler\n",
    "from sklearn.model_selection import train_test_split\n",
    "\n",
    "# Standardize the datasets\n",
    "scaler_f = StandardScaler().fit(X_full_sample)\n",
    "scaler_r = StandardScaler().fit(X_reduced_sample)\n",
    "\n",
    "X_train_f, X_test_f, y_train, y_test = train_test_split(scaler_f.transform(X_full_sample), \n",
    "                                                        Y_sample, test_size=0.2, random_state=42)\n",
    "X_train_r, X_test_r, y_train, y_test = train_test_split(scaler_r.transform(X_reduced_sample), \n",
    "                                                        Y_sample, test_size=0.2, random_state=42)\n",
    "\n",
    "print(\"Class distribution in training and testing set:\", Counter(y_train), Counter(y_test))"
   ]
  },
  {
   "cell_type": "code",
   "execution_count": 6,
   "metadata": {},
   "outputs": [
    {
     "name": "stdout",
     "output_type": "stream",
     "text": [
      "Full Dataset::Train Set::Accuracy score: 0.721774193548\n",
      "Full Dataset::Test Set::Accuracy score: 0.698924731183\n",
      "Reduced Dataset::Train Set::Accuracy score: 0.686827956989\n",
      "Reduced Dataset::Test Set::Accuracy score: 0.698924731183\n"
     ]
    }
   ],
   "source": [
    "from sklearn.linear_model import LogisticRegressionCV\n",
    "from sklearn.metrics import accuracy_score\n",
    "\n",
    "lr_model_f = LogisticRegressionCV(cv=10)\n",
    "lr_model_f.fit(X_train_f, y_train)\n",
    "\n",
    "lr_model_r = LogisticRegressionCV(cv=10)\n",
    "lr_model_r.fit(X_train_r, y_train)\n",
    "\n",
    "y_pred_f = lr_model_f.predict(X_test_f)\n",
    "y_pred_r = lr_model_r.predict(X_test_r)\n",
    "\n",
    "print(\"Full Dataset::Train Set::Accuracy score:\", accuracy_score(y_train, lr_model_f.predict(X_train_f)))\n",
    "print(\"Full Dataset::Test Set::Accuracy score:\", accuracy_score(y_test, y_pred_f))\n",
    "\n",
    "print(\"Reduced Dataset::Train Set::Accuracy score:\", accuracy_score(y_train, lr_model_r.predict(X_train_r)))\n",
    "print(\"Reduced Dataset::Test Set::Accuracy score:\", accuracy_score(y_test, y_pred_r))"
   ]
  },
  {
   "cell_type": "code",
   "execution_count": 7,
   "metadata": {},
   "outputs": [
    {
     "name": "stdout",
     "output_type": "stream",
     "text": [
      "[ 0.  1.  1.  1.  1.  1.  1.  1.  1.  1.  1.  0.  0.  1.  1.  0.  0.  1.\n",
      "  0.  0.  1.  1.  1.  1.  1.  0.  0.  1.  1.  0.  1.  0.  1.  1.  1.  1.\n",
      "  1.  1.  1.  0.  1.  1.  0.  1.  0.  1.  1.  1.  1.  0.  1.  1.  1.  1.\n",
      "  0.  1.  0.  1.  1.  0.  1.  1.  0.  1.  0.  1.  1.  1.  0.  1.  1.  1.\n",
      "  0.  1.  0.  0.  1.  1.  0.  0.  1.  0.  0.  1.  0.  1.  0.  0.  0.  0.\n",
      "  0.  1.  1.  1.  1.  1.  1.  1.  0.  1.  0.  1.  1.  0.  1.  0.  0.  1.\n",
      "  1.  1.  1.  1.  1.  1.  0.  0.  1.  1.  0.  0.  1.  1.  1.  0.  0.  1.\n",
      "  0.  0.  0.  1.  0.  1.  1.  1.  1.  1.  1.  0.  0.  0.  1.  1.  0.  0.\n",
      "  1.  1.  0.  0.  1.  1.  1.  1.  0.  1.  1.  1.  1.  0.  0.  1.  1.  1.\n",
      "  1.  1.  1.  0.  0.  0.  1.  1.  1.  0.  1.  1.  0.  1.  1.  1.  1.  1.\n",
      "  1.  1.  1.  0.  1.  1.]\n",
      "Full Dataset::Coefficients\n",
      "[[  0.23997571 -10.83883401   0.10919426  -0.85401388   0.39154203   0.18329974  -0.08159512   0.06604114  -0.30217106\n",
      "   -0.07256847   0.38693257  -0.06649829]]\n",
      "\n",
      "Reduced Dataset::Coefficients\n",
      "[[ 0.28310402  0.17693782 -0.05774041 -0.0228426  -0.52570086 -0.17921471  0.39549628  0.0710471 ]]\n"
     ]
    }
   ],
   "source": [
    "\"\"\"Print model coefficients\"\"\"\n",
    "print(y_pred_f)\n",
    "\n",
    "np.set_printoptions(linewidth=120)\n",
    "\n",
    "print(\"Full Dataset::Coefficients\")\n",
    "print(lr_model_f.coef_)\n",
    "print()\n",
    "print(\"Reduced Dataset::Coefficients\")\n",
    "print(lr_model_r.coef_)"
   ]
  },
  {
   "cell_type": "code",
   "execution_count": 42,
   "metadata": {},
   "outputs": [
    {
     "name": "stdout",
     "output_type": "stream",
     "text": [
      "Reduced Dataset::Train Set::Accuracy score: 0.686827956989\n",
      "Reduced Dataset::Test Set::Accuracy score: 0.709677419355\n",
      "[[ 0.12180012  0.09367462  0.04182929  0.02232382 -0.38600541 -0.04496146  0.23179387 -0.04989751]]\n"
     ]
    },
    {
     "data": {
      "image/png": "[encoded data removed]",
      "text/plain": [
       "<matplotlib.figure.Figure at 0x104db8d68>"
      ]
     },
     "metadata": {},
     "output_type": "display_data"
    }
   ],
   "source": [
    "\"\"\"Support vector machine\"\"\"\n",
    "from sklearn.svm import LinearSVC\n",
    "import matplotlib as mpl\n",
    "\n",
    "mpl.rcParams['axes.facecolor'] = 'ffffff'\n",
    "plt.rc('xtick',labelsize=18)\n",
    "plt.rc('ytick',labelsize=18)\n",
    "\n",
    "svm = LinearSVC()\n",
    "svm.fit(X_train_r, y_train)\n",
    "y_pred_svm = svm.predict(X_test_r)\n",
    "print(\"Reduced Dataset::Train Set::Accuracy score:\", accuracy_score(y_train, svm.predict(X_train_r)))\n",
    "print(\"Reduced Dataset::Test Set::Accuracy score:\", accuracy_score(y_test, y_pred_svm))\n",
    "\n",
    "print(svm.coef_)\n",
    "\n",
    "coef = svm.coef_.ravel()\n",
    "top_features = 3\n",
    "top_positive_coefficients = np.argsort(coef)[-5:]\n",
    "top_negative_coefficients = np.argsort(coef)[:3]\n",
    "top_coefficients = np.hstack([top_negative_coefficients, top_positive_coefficients])\n",
    "plt.figure(figsize=(10, 11))\n",
    "colors = ['#FF8C00' if c < 0 else '#4682B4' for c in coef[top_coefficients]]\n",
    "plt.bar(np.arange(8), coef[top_coefficients], color=colors)\n",
    "feature_names = ['Pop w/o A2I', 'GT50', 'Median DL', 'Median UL', '75% DL', '75% UL', '25% DL', '25% UL']\n",
    "feature_names = np.array(feature_names)\n",
    "plt.xticks(np.arange(0, 1 + 2 * 4 - 1), feature_names[top_coefficients], rotation=60, ha='right')\n",
    "plt.savefig('../SVMOutput.png')"
   ]
  },
  {
   "cell_type": "markdown",
   "metadata": {},
   "source": [
    "### Tree Classifiers\n",
    "We run the same tests with a DecisionTreeClassifier and a RandomForestClassifier"
   ]
  },
  {
   "cell_type": "code",
   "execution_count": 8,
   "metadata": {},
   "outputs": [
    {
     "name": "stdout",
     "output_type": "stream",
     "text": [
      "DecisionTreeClassifier::Accuracy Score: 0.596774193548\n",
      "RandomForestClassifier::Accuracy Score: 0.634408602151\n"
     ]
    }
   ],
   "source": [
    "\"\"\"From here onwards, we run our tests on reduced dataset only because the test accuracy is the same\"\"\"\n",
    "from sklearn.tree import DecisionTreeClassifier\n",
    "from sklearn.ensemble import RandomForestClassifier\n",
    "\n",
    "X_train = X_train_r\n",
    "X_test = X_test_r\n",
    "\n",
    "dtc = DecisionTreeClassifier()\n",
    "dtc.fit(X_train, y_train)\n",
    "\n",
    "rfc = RandomForestClassifier()\n",
    "rfc.fit(X_train, y_train)\n",
    "\n",
    "y_pred_dtc = dtc.predict(X_test)\n",
    "y_pred_rfc = rfc.predict(X_test)\n",
    "\n",
    "print(\"DecisionTreeClassifier::Accuracy Score:\", accuracy_score(y_test, y_pred_dtc))\n",
    "print(\"RandomForestClassifier::Accuracy Score:\", accuracy_score(y_test, y_pred_rfc))"
   ]
  },
  {
   "cell_type": "markdown",
   "metadata": {},
   "source": [
    "### Quick check on Performance\n",
    "Looks like Logistic Regression is already performing better than Tree Classifiers. To evaluate why this is the case, take a look at the confusion matrix for each of the models."
   ]
  },
  {
   "cell_type": "code",
   "execution_count": 35,
   "metadata": {},
   "outputs": [
    {
     "name": "stdout",
     "output_type": "stream",
     "text": [
      "Logistic Regression\n",
      "[[54 45]\n",
      " [11 76]]\n"
     ]
    }
   ],
   "source": [
    "\"\"\"Confusion matrix for Logistic Regression\"\"\"\n",
    "from sklearn.metrics import confusion_matrix\n",
    "print(\"Logistic Regression\")\n",
    "print(confusion_matrix(y_test, y_pred_f))"
   ]
  },
  {
   "cell_type": "code",
   "execution_count": 37,
   "metadata": {},
   "outputs": [
    {
     "name": "stdout",
     "output_type": "stream",
     "text": [
      "0.698924731183\n",
      "0.698924731183\n",
      "             precision    recall  f1-score   support\n",
      "\n",
      "        0.0       0.76      0.64      0.69        99\n",
      "        1.0       0.65      0.77      0.71        87\n",
      "\n",
      "avg / total       0.71      0.70      0.70       186\n",
      "\n",
      "             precision    recall  f1-score   support\n",
      "\n",
      "        0.0       0.83      0.55      0.66        99\n",
      "        1.0       0.63      0.87      0.73        87\n",
      "\n",
      "avg / total       0.74      0.70      0.69       186\n",
      "\n"
     ]
    }
   ],
   "source": [
    "\"\"\"Metrics\"\"\"\n",
    "from sklearn.metrics import classification_report\n",
    "print(accuracy_score(y_test, y_pred_r))\n",
    "print(accuracy_score(y_test, y_pred_f))\n",
    "print(classification_report(y_test, y_pred_r))\n",
    "print(classification_report(y_test, y_pred_f))"
   ]
  },
  {
   "cell_type": "code",
   "execution_count": 10,
   "metadata": {},
   "outputs": [
    {
     "name": "stdout",
     "output_type": "stream",
     "text": [
      "Random Forest Classifier\n",
      "[[63 36]\n",
      " [32 55]]\n"
     ]
    }
   ],
   "source": [
    "print(\"Random Forest Classifier\")\n",
    "print(confusion_matrix(y_test, y_pred_rfc))"
   ]
  },
  {
   "cell_type": "code",
   "execution_count": 11,
   "metadata": {},
   "outputs": [
    {
     "name": "stdout",
     "output_type": "stream",
     "text": [
      "Decision Tree Classifier\n",
      "[[58 41]\n",
      " [34 53]]\n"
     ]
    }
   ],
   "source": [
    "print(\"Decision Tree Classifier\")\n",
    "print(confusion_matrix(y_test, y_pred_dtc))"
   ]
  },
  {
   "cell_type": "code",
   "execution_count": 12,
   "metadata": {},
   "outputs": [
    {
     "name": "stdout",
     "output_type": "stream",
     "text": [
      "Logistic Regresion::R2 Score: -0.209334726576\n",
      "Decision Tree Classifier::R2 Score: -0.490073145246\n",
      "Random Forest Classifier::R2 Score: -0.382096830373\n"
     ]
    }
   ],
   "source": [
    "\"\"\"Quick look at the r2 score\"\"\"\n",
    "from sklearn.metrics import r2_score\n",
    "print(\"Logistic Regresion::R2 Score:\", r2_score(y_test, y_pred_r))\n",
    "print(\"Decision Tree Classifier::R2 Score:\", r2_score(y_test, y_pred_dtc))\n",
    "print(\"Random Forest Classifier::R2 Score:\", r2_score(y_test, y_pred_rfc))"
   ]
  },
  {
   "cell_type": "markdown",
   "metadata": {},
   "source": [
    "## Notes\n",
    "The logistic regression model still reports a negative R2 value, which means it is a poor fit for the data. Yet, it is able to get an almost 70% accuracy.\n",
    "\n",
    "#### Doing a quick MDS plot of the data to visualize the variability in the data"
   ]
  },
  {
   "cell_type": "code",
   "execution_count": 12,
   "metadata": {},
   "outputs": [],
   "source": [
    "from sklearn.manifold import MDS\n",
    "\n",
    "mds_model = MDS(n_init=10, verbose=1)\n",
    "mds_model.fit(X_train)\n",
    "embeddings = mds_model.embedding_"
   ]
  },
  {
   "cell_type": "code",
   "execution_count": 13,
   "metadata": {},
   "outputs": [],
   "source": [
    "%matplotlib inline\n",
    "import matplotlib.pyplot as plt"
   ]
  },
  {
   "cell_type": "code",
   "execution_count": 14,
   "metadata": {},
   "outputs": [
    {
     "data": {
      "text/plain": [
       "<matplotlib.collections.PathCollection at 0x1a1ade4dd8>"
      ]
     },
     "execution_count": 14,
     "metadata": {},
     "output_type": "execute_result"
    },
    {
     "data": {
      "image/png": "[encoded data removed]",
      "text/plain": [
       "<matplotlib.figure.Figure at 0x1a1adab588>"
      ]
     },
     "metadata": {},
     "output_type": "display_data"
    }
   ],
   "source": [
    "colors = ['r' if i == 0 else 'b' for i in y_train]\n",
    "plt.scatter(embeddings[:,0], embeddings[:,1], color=colors)"
   ]
  },
  {
   "cell_type": "markdown",
   "metadata": {},
   "source": [
    "## Visualizing Results\n",
    "Bar chart for visualizing weights of the model."
   ]
  },
  {
   "cell_type": "code",
   "execution_count": 15,
   "metadata": {},
   "outputs": [],
   "source": [
    "import seaborn as sns\n",
    "sns.set_style('whitegrid')"
   ]
  },
  {
   "cell_type": "code",
   "execution_count": 16,
   "metadata": {},
   "outputs": [
    {
     "name": "stdout",
     "output_type": "stream",
     "text": [
      "Header values:  ['pop_without_a2i' 'gt_50_internet' 'median_dl_speed' 'median_ul_speed' 'upper_quartile_dl' 'upper_quartile_ul'\n",
      " 'lower_quartile_dl' 'lower_quartile_ul']\n"
     ]
    }
   ],
   "source": [
    "print(\"Header values: \", df.columns.values[[2, 5, 6, 7, 8, 9, 10, 11]])"
   ]
  },
  {
   "cell_type": "code",
   "execution_count": 17,
   "metadata": {},
   "outputs": [],
   "source": [
    "header_values = ['Population without A2I', 'Internet availability (50% or greater)', \n",
    "                 'Median D/L Speed', 'Median U/L Speed', 'Upper Quartile D/L speed', \n",
    "                 'Upper Quartile U/L speed', 'Lower Quartile D/L speed', 'Lower Quartile U/L speed']\n",
    "data = pd.DataFrame(columns=header_values, data=np.array(lr_model_r.coef_))"
   ]
  },
  {
   "cell_type": "code",
   "execution_count": 18,
   "metadata": {},
   "outputs": [
    {
     "name": "stdout",
     "output_type": "stream",
     "text": [
      "     total_bill   tip     sex smoker   day    time  size\n",
      "0         16.99  1.01  Female     No   Sun  Dinner     2\n",
      "1         10.34  1.66    Male     No   Sun  Dinner     3\n",
      "2         21.01  3.50    Male     No   Sun  Dinner     3\n",
      "3         23.68  3.31    Male     No   Sun  Dinner     2\n",
      "4         24.59  3.61  Female     No   Sun  Dinner     4\n",
      "5         25.29  4.71    Male     No   Sun  Dinner     4\n",
      "6          8.77  2.00    Male     No   Sun  Dinner     2\n",
      "7         26.88  3.12    Male     No   Sun  Dinner     4\n",
      "8         15.04  1.96    Male     No   Sun  Dinner     2\n",
      "9         14.78  3.23    Male     No   Sun  Dinner     2\n",
      "10        10.27  1.71    Male     No   Sun  Dinner     2\n",
      "11        35.26  5.00  Female     No   Sun  Dinner     4\n",
      "12        15.42  1.57    Male     No   Sun  Dinner     2\n",
      "13        18.43  3.00    Male     No   Sun  Dinner     4\n",
      "14        14.83  3.02  Female     No   Sun  Dinner     2\n",
      "15        21.58  3.92    Male     No   Sun  Dinner     2\n",
      "16        10.33  1.67  Female     No   Sun  Dinner     3\n",
      "17        16.29  3.71    Male     No   Sun  Dinner     3\n",
      "18        16.97  3.50  Female     No   Sun  Dinner     3\n",
      "19        20.65  3.35    Male     No   Sat  Dinner     3\n",
      "20        17.92  4.08    Male     No   Sat  Dinner     2\n",
      "21        20.29  2.75  Female     No   Sat  Dinner     2\n",
      "22        15.77  2.23  Female     No   Sat  Dinner     2\n",
      "23        39.42  7.58    Male     No   Sat  Dinner     4\n",
      "24        19.82  3.18    Male     No   Sat  Dinner     2\n",
      "25        17.81  2.34    Male     No   Sat  Dinner     4\n",
      "26        13.37  2.00    Male     No   Sat  Dinner     2\n",
      "27        12.69  2.00    Male     No   Sat  Dinner     2\n",
      "28        21.70  4.30    Male     No   Sat  Dinner     2\n",
      "29        19.65  3.00  Female     No   Sat  Dinner     2\n",
      "..          ...   ...     ...    ...   ...     ...   ...\n",
      "214       28.17  6.50  Female    Yes   Sat  Dinner     3\n",
      "215       12.90  1.10  Female    Yes   Sat  Dinner     2\n",
      "216       28.15  3.00    Male    Yes   Sat  Dinner     5\n",
      "217       11.59  1.50    Male    Yes   Sat  Dinner     2\n",
      "218        7.74  1.44    Male    Yes   Sat  Dinner     2\n",
      "219       30.14  3.09  Female    Yes   Sat  Dinner     4\n",
      "220       12.16  2.20    Male    Yes   Fri   Lunch     2\n",
      "221       13.42  3.48  Female    Yes   Fri   Lunch     2\n",
      "222        8.58  1.92    Male    Yes   Fri   Lunch     1\n",
      "223       15.98  3.00  Female     No   Fri   Lunch     3\n",
      "224       13.42  1.58    Male    Yes   Fri   Lunch     2\n",
      "225       16.27  2.50  Female    Yes   Fri   Lunch     2\n",
      "226       10.09  2.00  Female    Yes   Fri   Lunch     2\n",
      "227       20.45  3.00    Male     No   Sat  Dinner     4\n",
      "228       13.28  2.72    Male     No   Sat  Dinner     2\n",
      "229       22.12  2.88  Female    Yes   Sat  Dinner     2\n",
      "230       24.01  2.00    Male    Yes   Sat  Dinner     4\n",
      "231       15.69  3.00    Male    Yes   Sat  Dinner     3\n",
      "232       11.61  3.39    Male     No   Sat  Dinner     2\n",
      "233       10.77  1.47    Male     No   Sat  Dinner     2\n",
      "234       15.53  3.00    Male    Yes   Sat  Dinner     2\n",
      "235       10.07  1.25    Male     No   Sat  Dinner     2\n",
      "236       12.60  1.00    Male    Yes   Sat  Dinner     2\n",
      "237       32.83  1.17    Male    Yes   Sat  Dinner     2\n",
      "238       35.83  4.67  Female     No   Sat  Dinner     3\n",
      "239       29.03  5.92    Male     No   Sat  Dinner     3\n",
      "240       27.18  2.00  Female    Yes   Sat  Dinner     2\n",
      "241       22.67  2.00    Male    Yes   Sat  Dinner     2\n",
      "242       17.82  1.75    Male     No   Sat  Dinner     2\n",
      "243       18.78  3.00  Female     No  Thur  Dinner     2\n",
      "\n",
      "[244 rows x 7 columns]\n"
     ]
    }
   ],
   "source": [
    "tips = sns.load_dataset(\"tips\")\n",
    "print(tips)"
   ]
  },
  {
   "cell_type": "code",
   "execution_count": 19,
   "metadata": {},
   "outputs": [
    {
     "data": {
      "text/html": [
       "<div>\n",
       "<style>\n",
       "    .dataframe thead tr:only-child th {\n",
       "        text-align: right;\n",
       "    }\n",
       "\n",
       "    .dataframe thead th {\n",
       "        text-align: left;\n",
       "    }\n",
       "\n",
       "    .dataframe tbody tr th {\n",
       "        vertical-align: top;\n",
       "    }\n",
       "</style>\n",
       "<table border=\"1\" class=\"dataframe\">\n",
       "  <thead>\n",
       "    <tr style=\"text-align: right;\">\n",
       "      <th></th>\n",
       "      <th>per_capita_income</th>\n",
       "      <th>population_density</th>\n",
       "      <th>pop_without_a2i</th>\n",
       "      <th>urban_pop_density</th>\n",
       "      <th>rural_pop_density</th>\n",
       "      <th>gt_50_internet</th>\n",
       "      <th>median_dl_speed</th>\n",
       "      <th>median_ul_speed</th>\n",
       "      <th>upper_quartile_dl</th>\n",
       "      <th>upper_quartile_ul</th>\n",
       "      <th>lower_quartile_dl</th>\n",
       "      <th>lower_quartile_ul</th>\n",
       "    </tr>\n",
       "  </thead>\n",
       "  <tbody>\n",
       "    <tr>\n",
       "      <th>count</th>\n",
       "      <td>3007.000000</td>\n",
       "      <td>3007.000000</td>\n",
       "      <td>3007.000000</td>\n",
       "      <td>3007.000000</td>\n",
       "      <td>3007.000000</td>\n",
       "      <td>3007.000000</td>\n",
       "      <td>3007.000000</td>\n",
       "      <td>3007.000000</td>\n",
       "      <td>3007.000000</td>\n",
       "      <td>3007.000000</td>\n",
       "      <td>3007.000000</td>\n",
       "      <td>3007.000000</td>\n",
       "    </tr>\n",
       "    <tr>\n",
       "      <th>mean</th>\n",
       "      <td>24006.278018</td>\n",
       "      <td>238.861244</td>\n",
       "      <td>35.600931</td>\n",
       "      <td>1388.975954</td>\n",
       "      <td>38.393421</td>\n",
       "      <td>0.975391</td>\n",
       "      <td>5.198062</td>\n",
       "      <td>1.997164</td>\n",
       "      <td>8.941998</td>\n",
       "      <td>3.325612</td>\n",
       "      <td>2.961012</td>\n",
       "      <td>1.223224</td>\n",
       "    </tr>\n",
       "    <tr>\n",
       "      <th>std</th>\n",
       "      <td>5613.751160</td>\n",
       "      <td>1807.759865</td>\n",
       "      <td>32.114530</td>\n",
       "      <td>1983.974369</td>\n",
       "      <td>41.611166</td>\n",
       "      <td>0.154957</td>\n",
       "      <td>4.325171</td>\n",
       "      <td>2.192160</td>\n",
       "      <td>7.227155</td>\n",
       "      <td>3.672943</td>\n",
       "      <td>3.213946</td>\n",
       "      <td>1.649285</td>\n",
       "    </tr>\n",
       "    <tr>\n",
       "      <th>min</th>\n",
       "      <td>8200.000000</td>\n",
       "      <td>0.066000</td>\n",
       "      <td>0.000000</td>\n",
       "      <td>0.000000</td>\n",
       "      <td>0.000000</td>\n",
       "      <td>0.000000</td>\n",
       "      <td>0.000980</td>\n",
       "      <td>0.002930</td>\n",
       "      <td>0.000980</td>\n",
       "      <td>0.002930</td>\n",
       "      <td>0.000980</td>\n",
       "      <td>0.002930</td>\n",
       "    </tr>\n",
       "    <tr>\n",
       "      <th>25%</th>\n",
       "      <td>20264.000000</td>\n",
       "      <td>15.460500</td>\n",
       "      <td>8.000000</td>\n",
       "      <td>812.023500</td>\n",
       "      <td>8.665500</td>\n",
       "      <td>1.000000</td>\n",
       "      <td>2.158480</td>\n",
       "      <td>0.595222</td>\n",
       "      <td>3.613796</td>\n",
       "      <td>0.839778</td>\n",
       "      <td>1.115677</td>\n",
       "      <td>0.387398</td>\n",
       "    </tr>\n",
       "    <tr>\n",
       "      <th>50%</th>\n",
       "      <td>23378.000000</td>\n",
       "      <td>43.756000</td>\n",
       "      <td>26.000000</td>\n",
       "      <td>1396.950000</td>\n",
       "      <td>25.708000</td>\n",
       "      <td>1.000000</td>\n",
       "      <td>3.979200</td>\n",
       "      <td>1.230833</td>\n",
       "      <td>7.033845</td>\n",
       "      <td>2.107423</td>\n",
       "      <td>2.070695</td>\n",
       "      <td>0.696388</td>\n",
       "    </tr>\n",
       "    <tr>\n",
       "      <th>75%</th>\n",
       "      <td>26715.500000</td>\n",
       "      <td>112.236500</td>\n",
       "      <td>56.000000</td>\n",
       "      <td>1863.025000</td>\n",
       "      <td>53.539500</td>\n",
       "      <td>1.000000</td>\n",
       "      <td>7.096713</td>\n",
       "      <td>2.690522</td>\n",
       "      <td>12.235057</td>\n",
       "      <td>4.610483</td>\n",
       "      <td>3.563242</td>\n",
       "      <td>1.412133</td>\n",
       "    </tr>\n",
       "    <tr>\n",
       "      <th>max</th>\n",
       "      <td>63610.000000</td>\n",
       "      <td>73077.080000</td>\n",
       "      <td>100.000000</td>\n",
       "      <td>73077.080000</td>\n",
       "      <td>679.088000</td>\n",
       "      <td>1.000000</td>\n",
       "      <td>52.043947</td>\n",
       "      <td>26.558962</td>\n",
       "      <td>70.893460</td>\n",
       "      <td>57.350828</td>\n",
       "      <td>51.639653</td>\n",
       "      <td>23.235680</td>\n",
       "    </tr>\n",
       "  </tbody>\n",
       "</table>\n",
       "</div>"
      ],
      "text/plain": [
       "       per_capita_income  population_density  pop_without_a2i  \\\n",
       "count        3007.000000         3007.000000      3007.000000   \n",
       "mean        24006.278018          238.861244        35.600931   \n",
       "std          5613.751160         1807.759865        32.114530   \n",
       "min          8200.000000            0.066000         0.000000   \n",
       "25%         20264.000000           15.460500         8.000000   \n",
       "50%         23378.000000           43.756000        26.000000   \n",
       "75%         26715.500000          112.236500        56.000000   \n",
       "max         63610.000000        73077.080000       100.000000   \n",
       "\n",
       "       urban_pop_density  rural_pop_density  gt_50_internet  median_dl_speed  \\\n",
       "count        3007.000000        3007.000000     3007.000000      3007.000000   \n",
       "mean         1388.975954          38.393421        0.975391         5.198062   \n",
       "std          1983.974369          41.611166        0.154957         4.325171   \n",
       "min             0.000000           0.000000        0.000000         0.000980   \n",
       "25%           812.023500           8.665500        1.000000         2.158480   \n",
       "50%          1396.950000          25.708000        1.000000         3.979200   \n",
       "75%          1863.025000          53.539500        1.000000         7.096713   \n",
       "max         73077.080000         679.088000        1.000000        52.043947   \n",
       "\n",
       "       median_ul_speed  upper_quartile_dl  upper_quartile_ul  \\\n",
       "count      3007.000000        3007.000000        3007.000000   \n",
       "mean          1.997164           8.941998           3.325612   \n",
       "std           2.192160           7.227155           3.672943   \n",
       "min           0.002930           0.000980           0.002930   \n",
       "25%           0.595222           3.613796           0.839778   \n",
       "50%           1.230833           7.033845           2.107423   \n",
       "75%           2.690522          12.235057           4.610483   \n",
       "max          26.558962          70.893460          57.350828   \n",
       "\n",
       "       lower_quartile_dl  lower_quartile_ul  \n",
       "count        3007.000000        3007.000000  \n",
       "mean            2.961012           1.223224  \n",
       "std             3.213946           1.649285  \n",
       "min             0.000980           0.002930  \n",
       "25%             1.115677           0.387398  \n",
       "50%             2.070695           0.696388  \n",
       "75%             3.563242           1.412133  \n",
       "max            51.639653          23.235680  "
      ]
     },
     "execution_count": 19,
     "metadata": {},
     "output_type": "execute_result"
    }
   ],
   "source": [
    "\"\"\"Import dataset\"\"\"\n",
    "import pandas as pd\n",
    "df = pd.DataFrame.from_csv('../Data/Dataset2016-RepublicanPercentage.csv')\n",
    "df.describe()"
   ]
  },
  {
   "cell_type": "code",
   "execution_count": 33,
   "metadata": {},
   "outputs": [
    {
     "data": {
      "text/plain": [
       "<matplotlib.collections.PathCollection at 0x1a1f9d0630>"
      ]
     },
     "execution_count": 33,
     "metadata": {},
     "output_type": "execute_result"
    },
    {
     "data": {
      "image/png": "[encoded data removed]",
      "text/plain": [
       "<matplotlib.figure.Figure at 0x1a20af4208>"
      ]
     },
     "metadata": {},
     "output_type": "display_data"
    }
   ],
   "source": [
    "dataset_percentage = df.iloc[:, :].as_matrix()\n",
    "median_dl_speed = dataset[:, 6]\n",
    "lower_dl_speed = dataset[:, 10]\n",
    "percentage = []\n",
    "for i in dataset_percentage[:, -1]:\n",
    "    if i == 'None' or i is None:\n",
    "        percentage.append(0)\n",
    "    else:\n",
    "        percentage.append(float(i))\n",
    "\n",
    "plt.scatter(median_dl_speed, percentage)"
   ]
  },
  {
   "cell_type": "code",
   "execution_count": 34,
   "metadata": {},
   "outputs": [
    {
     "data": {
      "text/plain": [
       "<matplotlib.collections.PathCollection at 0x1a20ab3c50>"
      ]
     },
     "execution_count": 34,
     "metadata": {},
     "output_type": "execute_result"
    },
    {
     "data": {
      "image/png": "[encoded data removed]",
      "text/plain": [
       "<matplotlib.figure.Figure at 0x1a209607f0>"
      ]
     },
     "metadata": {},
     "output_type": "display_data"
    }
   ],
   "source": [
    "plt.scatter(lower_dl_speed, percentage)"
   ]
  },
  {
   "cell_type": "code",
   "execution_count": 44,
   "metadata": {},
   "outputs": [],
   "source": [
    "df1 = pd.DataFrame.from_csv('../Data/Dataset2016.csv')\n",
    "df2 = pd.DataFrame.from_csv('../Data/CountyProviderStatistics.csv')\n",
    "df3 = df1.join(df2)\n",
    "df3 = df3.drop(['countyId', 'geographyId', 'geographyName'], axis=1)\n",
    "X = df3.loc[:, df3.columns != 'party_won']\n",
    "y = df3.loc[:, 'party_won']"
   ]
  },
  {
   "cell_type": "code",
   "execution_count": 46,
   "metadata": {},
   "outputs": [
    {
     "name": "stdout",
     "output_type": "stream",
     "text": [
      "Index(['per_capita_income', 'population_density', 'pop_without_a2i',\n",
      "       'urban_pop_density', 'rural_pop_density', 'gt_50_internet',\n",
      "       'median_dl_speed', 'median_ul_speed', 'upper_quartile_dl',\n",
      "       'upper_quartile_ul',\n",
      "       ...\n",
      "       'wirelineUploadSpeedGreaterThan10000k',\n",
      "       'wirelineUploadSpeedGreaterThan1500k',\n",
      "       'wirelineUploadSpeedGreaterThan1Gig',\n",
      "       'wirelineUploadSpeedGreaterThan200k',\n",
      "       'wirelineUploadSpeedGreaterThan25000k',\n",
      "       'wirelineUploadSpeedGreaterThan3000k',\n",
      "       'wirelineUploadSpeedGreaterThan50000k',\n",
      "       'wirelineUploadSpeedGreaterThan6000k',\n",
      "       'wirelineUploadSpeedGreaterThan768k',\n",
      "       'wirelineUploadSpeedLessThan200k'],\n",
      "      dtype='object', length=129)\n"
     ]
    }
   ],
   "source": [
    "print(X.columns)"
   ]
  },
  {
   "cell_type": "code",
   "execution_count": 47,
   "metadata": {},
   "outputs": [
    {
     "name": "stdout",
     "output_type": "stream",
     "text": [
      "(3014, 129) float64\n",
      "(3014,) float64\n"
     ]
    }
   ],
   "source": [
    "X = X.as_matrix()\n",
    "y = y.as_matrix()\n",
    "\n",
    "Y = np.zeros(y.shape)\n",
    "for i in range(len(y)):\n",
    "    if y[i] != 'None':\n",
    "        Y[i] = float(y[i])\n",
    "    else:\n",
    "        Y[i] = 0.0\n",
    "print(X.shape, X.dtype)\n",
    "print(Y.shape, Y.dtype)"
   ]
  },
  {
   "cell_type": "code",
   "execution_count": 50,
   "metadata": {},
   "outputs": [
    {
     "name": "stdout",
     "output_type": "stream",
     "text": [
      "Sampled dataset size: (933, 129)\n",
      "Sampled labels size: (933,)\n",
      "Class distribution after sampling: Counter({1.0: 481, 0.0: 452})\n"
     ]
    }
   ],
   "source": [
    "X_sample = []\n",
    "Y_sample = []\n",
    "\n",
    "random.seed(42)\n",
    "\n",
    "# The threshold decides whether an entry should be included in the sampled dataset or not\n",
    "threshold = 0.2\n",
    "\n",
    "for i in range(len(Y)):\n",
    "    if Y[i] == 0:\n",
    "        X_sample.append(X[i])\n",
    "        Y_sample.append(Y[i])\n",
    "    elif random.random() < threshold:\n",
    "        X_sample.append(X[i])\n",
    "        Y_sample.append(Y[i])\n",
    "\n",
    "X_sample = np.array(X_sample)\n",
    "Y_sample = np.array(Y_sample)\n",
    "\n",
    "print(\"Sampled dataset size:\", X_sample.shape)\n",
    "print(\"Sampled labels size:\", Y_sample.shape)\n",
    "print(\"Class distribution after sampling:\", Counter(Y_sample))"
   ]
  },
  {
   "cell_type": "code",
   "execution_count": 51,
   "metadata": {},
   "outputs": [
    {
     "name": "stdout",
     "output_type": "stream",
     "text": [
      "Class distribution in training and testing set: Counter({1.0: 392, 0.0: 354}) Counter({0.0: 98, 1.0: 89})\n"
     ]
    }
   ],
   "source": [
    "from sklearn.preprocessing import StandardScaler\n",
    "from sklearn.model_selection import train_test_split\n",
    "\n",
    "# Standardize the datasets\n",
    "scaler = StandardScaler().fit(X_sample)\n",
    "\n",
    "X_train, X_test, y_train, y_test = train_test_split(scaler.transform(X_sample), \n",
    "                                                        Y_sample, test_size=0.2, random_state=42)\n",
    "\n",
    "print(\"Class distribution in training and testing set:\", Counter(y_train), Counter(y_test))"
   ]
  },
  {
   "cell_type": "code",
   "execution_count": 53,
   "metadata": {},
   "outputs": [
    {
     "name": "stderr",
     "output_type": "stream",
     "text": [
      "/Users/ashish/anaconda3/lib/python3.6/site-packages/sklearn/linear_model/coordinate_descent.py:491: ConvergenceWarning: Objective did not converge. You might want to increase the number of iterations. Fitting data with very small alpha may cause precision problems.\n",
      "  ConvergenceWarning)\n"
     ]
    },
    {
     "name": "stdout",
     "output_type": "stream",
     "text": [
      "42\n"
     ]
    }
   ],
   "source": [
    "from sklearn.feature_selection import SelectFromModel\n",
    "from sklearn.linear_model import LassoCV\n",
    "clf = LassoCV()\n",
    "sfm = SelectFromModel(clf)\n",
    "sfm.fit(X_train, y_train)\n",
    "n_features = sfm.transform(X_train).shape[1]\n",
    "print(n_features)"
   ]
  },
  {
   "cell_type": "code",
   "execution_count": 59,
   "metadata": {},
   "outputs": [
    {
     "name": "stdout",
     "output_type": "stream",
     "text": [
      "Index(['per_capita_income', 'urban_pop_density', 'rural_pop_density',\n",
      "       'gt_50_internet', 'upper_quartile_dl', 'upper_quartile_ul',\n",
      "       'lower_quartile_dl', 'asymmetricDsl', 'cableOther', 'copper',\n",
      "       'downloadSpeedGt25000kAndLt50000k', 'downloadSpeedGt768kAndLt1500k',\n",
      "       'downloadSpeedLessThan3Mbps', 'fiberTechnology',\n",
      "       'fixedWirelessLicensed', 'fixedWirelessUnlicensed',\n",
      "       'greatestUploadSpeedPercentage', 'mostCommonDownloadSpeed',\n",
      "       'mostCommonDownloadSpeedPercentage', 'mostCommonUploadSpeed',\n",
      "       'mostCommonUploadSpeedPercentage', 'numberOfWirelessProvidersEquals0',\n",
      "       'numberOfWirelessProvidersEquals2', 'numberOfWirelessProvidersEquals4',\n",
      "       'numberOfWirelessProvidersEquals7',\n",
      "       'numberOfWirelessProvidersGreaterThan8',\n",
      "       'numberOfWirelineProvidersEquals1', 'numberOfWirelineProvidersEquals4',\n",
      "       'numberOfWirelineProvidersEquals5', 'uploadSpeedGt100000kAndLt1Gig',\n",
      "       'uploadSpeedGt200kAndLt768k', 'uploadSpeedGt768kAndLt1500k',\n",
      "       'wirelessDownloadSpeedGreaterThan100000k',\n",
      "       'wirelessDownloadSpeedGreaterThan10000k',\n",
      "       'wirelessDownloadSpeedGreaterThan1Gig',\n",
      "       'wirelessUploadSpeedGreaterThan10000k',\n",
      "       'wirelessUploadSpeedGreaterThan1Gig',\n",
      "       'wirelessUploadSpeedGreaterThan25000k',\n",
      "       'wirelessUploadSpeedGreaterThan6000k',\n",
      "       'wirelineDownloadSpeedGreaterThan10000k',\n",
      "       'wirelineUploadSpeedGreaterThan10000k',\n",
      "       'wirelineUploadSpeedGreaterThan1500k'],\n",
      "      dtype='object')\n"
     ]
    }
   ],
   "source": [
    "selected_features = df3.loc[:, df3.columns != 'party_won'].columns[sfm.get_support()]\n",
    "print(selected_features)"
   ]
  },
  {
   "cell_type": "code",
   "execution_count": 60,
   "metadata": {},
   "outputs": [
    {
     "name": "stdout",
     "output_type": "stream",
     "text": [
      "0.705882352941\n",
      "[[ 0.01408462 -0.11668089 -0.00733171  0.09866158 -0.1430646  -0.09241915  0.11415187 -0.08876946 -0.08391244\n",
      "  -0.18049682  0.03877025 -0.04969887 -0.04084893  0.05250131 -0.00628666  0.12158603  0.07231592  0.0371446  -0.12470298\n",
      "   0.04946808 -0.07745016 -0.04748307  0.04265021 -0.11354171  0.04333589  0.06808571  0.11743839 -0.12914844\n",
      "  -0.06495585 -0.0647665  -0.03716633 -0.06886471 -0.06001265 -0.06994922 -0.0182997   0.03193316 -0.0182997  -0.10220533\n",
      "  -0.12661673 -0.07369412 -0.10539952 -0.09091443]]\n"
     ]
    }
   ],
   "source": [
    "from sklearn.linear_model import LogisticRegressionCV\n",
    "\n",
    "model = LogisticRegressionCV(cv=10)\n",
    "model.fit(sfm.transform(X_train), y_train)\n",
    "y_pred = model.predict(sfm.transform(X_test))\n",
    "print(accuracy_score(y_test, y_pred))\n",
    "print(model.coef_)"
   ]
  },
  {
   "cell_type": "code",
   "execution_count": 61,
   "metadata": {},
   "outputs": [
    {
     "name": "stdout",
     "output_type": "stream",
     "text": [
      "0.663101604278\n"
     ]
    }
   ],
   "source": [
    "svm = LinearSVC()\n",
    "svm.fit(sfm.transform(X_train), y_train)\n",
    "y_pred = svm.predict(sfm.transform(X_test))\n",
    "print(accuracy_score(y_test, y_pred))"
   ]
  },
  {
   "cell_type": "code",
   "execution_count": 62,
   "metadata": {},
   "outputs": [
    {
     "name": "stdout",
     "output_type": "stream",
     "text": [
      "per_capita_income\n"
     ]
    }
   ],
   "source": [
    "print(selected_features[0])"
   ]
  },
  {
   "cell_type": "code",
   "execution_count": 63,
   "metadata": {},
   "outputs": [],
   "source": [
    "with open('../Visualizations/data.csv', 'w') as fwriter:\n",
    "    fwriter.write('name,value\\n')\n",
    "    for name, value in zip(selected_features, model.coef_[0]):\n",
    "        fwriter.write('%s,%s\\n' % (name, value))"
   ]
  },
  {
   "cell_type": "code",
   "execution_count": 64,
   "metadata": {},
   "outputs": [],
   "source": [
    "with open('../Visualizations/data-svm.csv', 'w') as fwriter:\n",
    "    fwriter.write('name,value\\n')\n",
    "    for name, value in zip(selected_features, svm.coef_[0]):\n",
    "        fwriter.write('%s,%s\\n' % (name, value))"
   ]
  }
 ],
 "metadata": {
  "kernelspec": {
   "display_name": "Python 3",
   "language": "python",
   "name": "python3"
  },
  "language_info": {
   "codemirror_mode": {
    "name": "ipython",
    "version": 3
   },
   "file_extension": ".py",
   "mimetype": "text/x-python",
   "name": "python",
   "nbconvert_exporter": "python",
   "pygments_lexer": "ipython3",
   "version": "3.6.3"
  }
 },
 "nbformat": 4,
 "nbformat_minor": 2
}
